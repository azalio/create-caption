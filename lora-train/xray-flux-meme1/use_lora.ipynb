{
 "cells": [
  {
   "cell_type": "code",
   "execution_count": null,
   "metadata": {
    "vscode": {
     "languageId": "plaintext"
    }
   },
   "outputs": [],
   "source": [
    "pip install --upgrade sentencepiece protobuf diffusers transformers accelerate safetensors huggingface_hub"
   ]
  },
  {
   "cell_type": "code",
   "execution_count": null,
   "metadata": {
    "vscode": {
     "languageId": "plaintext"
    }
   },
   "outputs": [],
   "source": [
    "!huggingface-cli login --token=TOKEN"
   ]
  },
  {
   "cell_type": "code",
   "execution_count": null,
   "metadata": {
    "vscode": {
     "languageId": "plaintext"
    }
   },
   "outputs": [],
   "source": [
    "!cd /workspace"
   ]
  },
  {
   "cell_type": "code",
   "execution_count": null,
   "metadata": {
    "vscode": {
     "languageId": "plaintext"
    }
   },
   "outputs": [],
   "source": [
    "import torch\n",
    "from diffusers import AutoPipelineForText2Image\n",
    "\n",
    "# 1. Загружаем автоматический пайплайн из FLUX\n",
    "pipeline = AutoPipelineForText2Image.from_pretrained(\n",
    "    \"black-forest-labs/FLUX.1-dev\",\n",
    "    torch_dtype=torch.float16\n",
    ").to(\"cuda\")  # или cuda, если есть NVIDIA\n",
    "\n",
    "# 2. Загружаем LoRA-веса\n",
    "pipeline.load_lora_weights(\n",
    "    \"azalio/meme1\",            # или локальная папка с lora.safetensors\n",
    "    # weight_name=\"lora.safetensors\"\n",
    "    weight_name=\"my_first_flux_lora_v1.safetensors\"\n",
    ")"
   ]
  },
  {
   "cell_type": "code",
   "execution_count": null,
   "metadata": {
    "vscode": {
     "languageId": "plaintext"
    }
   },
   "outputs": [],
   "source": []
  }
 ],
 "metadata": {
  "language_info": {
   "name": "python"
  }
 },
 "nbformat": 4,
 "nbformat_minor": 2
}
